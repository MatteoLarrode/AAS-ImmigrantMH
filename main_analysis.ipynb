{
 "cells": [
  {
   "cell_type": "markdown",
   "metadata": {},
   "source": [
    "# Main Analysis"
   ]
  },
  {
   "cell_type": "code",
   "execution_count": null,
   "metadata": {},
   "outputs": [],
   "source": [
    "%load_ext autoreload\n",
    "%autoreload 2"
   ]
  },
  {
   "cell_type": "code",
   "execution_count": 198,
   "metadata": {},
   "outputs": [],
   "source": [
    "from matplotlib import pyplot as plt\n",
    "import seaborn as sns\n",
    "import numpy as np\n",
    "import pandas as pd\n",
    "from utils.visualisations_helpers import *\n",
    "\n",
    "set_visualization_style()\n",
    "\n",
    "viridis = plt.get_cmap('viridis_r', 6)  # Extract 6 colors from reversed viridis"
   ]
  },
  {
   "cell_type": "code",
   "execution_count": 199,
   "metadata": {},
   "outputs": [],
   "source": [
    "import statsmodels.api as sm\n",
    "from statsmodels.formula.api import ols\n",
    "from tableone import TableOne\n",
    "\n",
    "# Load data from pickle\n",
    "df_wave_7 = pd.read_pickle('data/wave7_data.pkl')\n",
    "df_wave_7_part1 = pd.read_pickle('data/wave7_data_part1.pkl')\n",
    "df_wave_7_part2 = pd.read_pickle('data/wave7_data_part2.pkl')"
   ]
  },
  {
   "cell_type": "code",
   "execution_count": null,
   "metadata": {},
   "outputs": [],
   "source": [
    "df_wave_7.columns"
   ]
  },
  {
   "cell_type": "code",
   "execution_count": null,
   "metadata": {},
   "outputs": [],
   "source": [
    "categorical_columns = df_wave_7.select_dtypes(include=['category']).columns\n",
    "for col in categorical_columns:\n",
    "    print(f\"Categories for {col}: {df_wave_7[col].cat.categories}\")\n",
    "    print(f\"Reference category for {col}: {df_wave_7[col].cat.categories[0]}\")"
   ]
  },
  {
   "cell_type": "markdown",
   "metadata": {},
   "source": [
    "## I/ Exploratory data analysis"
   ]
  },
  {
   "cell_type": "markdown",
   "metadata": {},
   "source": [
    "### A) Summary Stats"
   ]
  },
  {
   "cell_type": "markdown",
   "metadata": {},
   "source": [
    "I start by exploring some descriptive statistics, for all respondents, and grouped by whether they are UK natives or not. "
   ]
  },
  {
   "cell_type": "code",
   "execution_count": null,
   "metadata": {},
   "outputs": [],
   "source": [
    "columns = ['sf12mcs_dv','sex', 'age_dv', 'ethn_dv_recoded', 'hiqual_dv_recoded', 'years_since_arrival_binary', 'mreason', 'unemployed']\n",
    "continuous = ['sf12mcs_dv','age_dv']\n",
    "categorical = ['years_since_arrival_binary', 'sex','ethn_dv_recoded', 'hiqual_dv_recoded', 'mreason', 'unemployed']\n",
    "groupby = 'imm_group'\n",
    "\n",
    "# Define the mapping for renaming columns\n",
    "rename = {\n",
    "    'sf12mcs_dv': 'SF-12 MCS',\n",
    "    'sex': 'Sex',\n",
    "    'age_dv': 'Age',\n",
    "    'ethn_dv_recoded': 'Ethnicity',\n",
    "    'hiqual_dv_recoded': 'Highest Qualification',\n",
    "    'jbstat_dv_recoded': 'Labour Force Status',\n",
    "    'gor_dv_recoded': 'Government Office Region',\n",
    "    'years_since_arrival_binary': 'Has lived in the UK for more than 15 years',\n",
    "    'mreason': 'Reason for Migrating'\n",
    "}\n",
    "\n",
    "# Create the TableOne object with the renaming parameter\n",
    "mytable = TableOne(df_wave_7, columns, categorical, continuous, groupby, rename=rename)\n",
    "\n",
    "print(mytable.tabulate(tablefmt=\"github\"))\n",
    "\n",
    "# mytable.to_latex('tables/table_1.tex')"
   ]
  },
  {
   "cell_type": "markdown",
   "metadata": {},
   "source": [
    "### B) Visualisations"
   ]
  },
  {
   "cell_type": "code",
   "execution_count": null,
   "metadata": {},
   "outputs": [],
   "source": [
    "# ===============================================================\n",
    "# === Mental health by immigration status & reason to migrate ===\n",
    "# ===============================================================\n",
    "fig, (ax1, ax2) = plt.subplots(1, 2, figsize=(15, 6))\n",
    "    \n",
    "# Violin plot\n",
    "sns.violinplot(data=df_wave_7, x='immigrant', y='sf12mcs_dv', ax=ax1)\n",
    "ax1.set_title('Distribution of Mental Health Scores\\nImmigrants vs UK-born', pad=20)\n",
    "ax1.set_xlabel('Immigration Status')\n",
    "ax1.set_ylabel('SF-12 Mental Component Score')\n",
    "\n",
    "# Box plot by migration reason\n",
    "sns.boxplot(data=df_wave_7[df_wave_7['immigrant']==1], \n",
    "            x='mreason', y='sf12mcs_dv',\n",
    "            ax=ax2)\n",
    "ax2.set_title('Mental Health Scores by Migration Reason', pad=20)\n",
    "ax2.set_xlabel('Reason for Migration')\n",
    "ax2.set_ylabel('SF-12 Mental Component Score')\n",
    "ax2.tick_params(axis='x', rotation=45)\n",
    "\n",
    "# Adjust layout\n",
    "plt.tight_layout()"
   ]
  },
  {
   "cell_type": "code",
   "execution_count": null,
   "metadata": {},
   "outputs": [],
   "source": [
    "# ========================================================\n",
    "# === Mental health by years since arrival & ethnicity ===\n",
    "# ========================================================\n",
    "# Create figure with two subplots\n",
    "fig, (ax1, ax2) = plt.subplots(2, 1, figsize=(12, 12))\n",
    "\n",
    "# Line plot: Average MH scores by years since arrival and ethnicity\n",
    "sns.lineplot(\n",
    "    data=df_wave_7[df_wave_7['immigrant']==1],\n",
    "    x='years_since_arrival_cat',\n",
    "    y='sf12mcs_dv',\n",
    "    hue='ethn_dv_recoded',\n",
    "    markers=True,\n",
    "    marker='o',\n",
    "    ax=ax1\n",
    ")\n",
    "\n",
    "ax1.set_title('Mental Health Scores by Years Since Immigration\\nAcross Ethnic Groups', pad=20)\n",
    "ax1.set_xlabel('Years Since Arrival')\n",
    "ax1.set_ylabel('Average SF-12 Mental Component Score')\n",
    "ax1.tick_params(axis='x', rotation=45)\n",
    "\n",
    "# Add legend with better positioning\n",
    "ax1.legend(title='Ethnic Group', bbox_to_anchor=(1.05, 1), loc='upper left')\n",
    "\n",
    "# Bar plot: Population distribution\n",
    "# Calculate the distribution of immigrants across time categories by ethnicity\n",
    "immigrant_counts = df_wave_7[df_wave_7['immigrant']==1].groupby(['years_since_arrival_cat', 'ethn_dv_recoded']).size().unstack()\n",
    "\n",
    "immigrant_counts.plot(\n",
    "    kind='bar',\n",
    "    stacked=True,\n",
    "    ax=ax2\n",
    ")\n",
    "\n",
    "ax2.set_title('Distribution of Immigrants by Years Since Arrival\\nAcross Ethnic Groups', pad=20)\n",
    "ax2.set_xlabel('Years Since Arrival')\n",
    "ax2.set_ylabel('Number of Immigrants')\n",
    "ax2.tick_params(axis='x', rotation=45)\n",
    "ax2.legend(title='Ethnic Group', bbox_to_anchor=(1.05, 1), loc='upper left')\n",
    "\n",
    "# Adjust layout to prevent overlap\n",
    "plt.tight_layout()"
   ]
  },
  {
   "cell_type": "markdown",
   "metadata": {},
   "source": [
    "## II/ Examining the Healthy Immigrant Effect"
   ]
  },
  {
   "cell_type": "code",
   "execution_count": null,
   "metadata": {},
   "outputs": [],
   "source": [
    "# MODEL 1: Mental Health of UK-born and immigrants\n",
    "formula_m1 = 'sf12mcs_dv ~ immigrant'\n",
    "model1 = ols(formula=formula_m1, data=df_wave_7_part1).fit(cov_type='HC3')\n",
    "\n",
    "print(model1.summary())"
   ]
  },
  {
   "cell_type": "markdown",
   "metadata": {},
   "source": [
    "The results of this baseline regression indicate at the absence of a statistically significant difference in mental health between UK-born and immigrants."
   ]
  },
  {
   "cell_type": "code",
   "execution_count": null,
   "metadata": {},
   "outputs": [],
   "source": [
    "# MODEL 2: Added controls\n",
    "formula_m2 = 'sf12mcs_dv ~ immigrant + age_dv + pow(age_dv, 2) + ethn_dv_recoded + sex + hiqual_dv_recoded'\n",
    "model2 = ols(formula=formula_m2, data=df_wave_7_part1).fit(cov_type='HC3')\n",
    "\n",
    "print(model2.summary())"
   ]
  },
  {
   "cell_type": "markdown",
   "metadata": {},
   "source": [
    "This regression with controls offers a more insightful picture of the difference in mental health between UK-born and immigrant respondents. The statistically significant negative coefficient for the 'UK-born' category gives support to the 'healthy immigrant' hypothesis. More specifically, immigrants exhibit, on average, a mental health score 0.69 higher than natives, controlling for ethnicity, age, education and occupational status.\n",
    "\n",
    "The caveat is the low R-squared of this model (0.06), which indicates that the model does not explain very well variation in mental health. Although this can be partly explain by the complexity and diversity of factors that determine it, it is a rather concerning indicator of omitted variable bias.\n",
    "\n"
   ]
  },
  {
   "cell_type": "markdown",
   "metadata": {},
   "source": [
    "A strong limitation of this model, and of many studies in the literature examining the mental health of immigrants, is the holistic grouping of immigrants to which the 'healthy' effect supposedly apply. It is likely that reasons for migration may affect the mental health of immigrants. \n",
    "\n",
    "Because the 'reason to migrate' variable does not apply to UK-born respondents, it is added with the intervention of an indicator variable. Specifically, the effect of this variable is only considered as part of an interaction with the main effect of being an immigrant on mental health in the model. Note that this is an exception to the general rule that terms should not be included as interactions without a main effect term. "
   ]
  },
  {
   "cell_type": "code",
   "execution_count": null,
   "metadata": {},
   "outputs": [],
   "source": [
    "# MODEL 3: Added interaction with reasons to migrate\n",
    "formula_m3 = 'sf12mcs_dv ~ immigrant + immigrant:mreason + age_dv + pow(age_dv, 2) + sex + ethn_dv_recoded + hiqual_dv_recoded'\n",
    "model3 = ols(formula=formula_m3, data=df_wave_7_part1).fit(cov_type='HC3')\n",
    "\n",
    "print(model3.summary())"
   ]
  },
  {
   "cell_type": "markdown",
   "metadata": {},
   "source": [
    "## III/ Examining the Years since Immigration Effect"
   ]
  },
  {
   "cell_type": "markdown",
   "metadata": {},
   "source": [
    "Now, I reduce the sample to only immigrants. I ask whether time since arrival has an effect on the mental health of immigrants."
   ]
  },
  {
   "cell_type": "code",
   "execution_count": null,
   "metadata": {},
   "outputs": [],
   "source": [
    "# MODEL 4: Mental Health of UK-born and immigrants with years since arrival\n",
    "formula_m4 = 'sf12mcs_dv ~  years_since_arrival_binary + ethn_dv_recoded'\n",
    "model4 = ols(formula=formula_m4, data=df_wave_7_part2).fit(cov_type='HC3')\n",
    "\n",
    "print(model4.summary())"
   ]
  },
  {
   "cell_type": "code",
   "execution_count": null,
   "metadata": {},
   "outputs": [],
   "source": [
    "# MODEL 5: Mental Health of UK-born and immigrants with years since arrival\n",
    "formula_m5 = 'sf12mcs_dv ~  years_since_arrival_binary + age_dv + pow(age_dv, 2) + ethn_dv_recoded + sex + hiqual_dv_recoded'\n",
    "model5 = ols(formula=formula_m5, data=df_wave_7_part2).fit(cov_type='HC3')\n",
    "\n",
    "print(model5.summary())"
   ]
  },
  {
   "cell_type": "code",
   "execution_count": null,
   "metadata": {},
   "outputs": [],
   "source": [
    "# MODEL 6: Added interaction with ethnicity\n",
    "formula_m6 = 'sf12mcs_dv ~  years_since_arrival_binary*ethn_dv_recoded + age_dv + pow(age_dv, 2) + sex + hiqual_dv_recoded'\n",
    "model6 = ols(formula=formula_m6, data=df_wave_7_part2).fit(cov_type='HC3')\n",
    "\n",
    "print(model6.summary())"
   ]
  },
  {
   "cell_type": "markdown",
   "metadata": {},
   "source": [
    "## IV/ Testing OLS Assumptions"
   ]
  },
  {
   "cell_type": "markdown",
   "metadata": {},
   "source": [
    "I now check the assumptions for the linear regressions. I test them for Model 3 and Model 6, because they are the fully specified models for each section of the analysis."
   ]
  },
  {
   "cell_type": "code",
   "execution_count": null,
   "metadata": {},
   "outputs": [],
   "source": [
    "# =================\n",
    "# === Linearity ===\n",
    "# =================\n",
    "# For binary and categorical variables: \n",
    "# This assumption is trivially met, since the line of best fit is modeled as a straight line between pairs of conditional means\n",
    "\n",
    "# For continuous variables (only age here): \n",
    "# Plot x vs. y\n",
    "fig, ax = plt.subplots(1, 1, figsize=(10, 6))\n",
    "sns.scatterplot(data=df_wave_7, x='age_dv', y='sf12mcs_dv', ax=ax, color=viridis(3))\n",
    "ax.set_xlabel('Age')\n",
    "ax.set_ylabel('SF-12 Mental Component Score')\n",
    "\n",
    "# Export figure to jpg\n",
    "fig.savefig('figures/agevsMH.jpg', dpi=300)"
   ]
  },
  {
   "cell_type": "code",
   "execution_count": null,
   "metadata": {},
   "outputs": [],
   "source": [
    "# Check residuals vs fitted values\n",
    "# Combined Residuals vs Fitted Values plot for Model 3 and Model 6\n",
    "fig, (ax1, ax2) = plt.subplots(1, 2, figsize=(16, 6), sharey=True)\n",
    "\n",
    "# Model 3\n",
    "sns.residplot(x=model3.fittedvalues, y=model3.resid, lowess=True, line_kws={'color': 'red', 'lw': 2}, ax=ax1, scatter_kws={'color': viridis(2)})\n",
    "ax1.axhline(0, color='black', linestyle='--', linewidth=1)\n",
    "ax1.set_xlabel(\"Fitted Values\")\n",
    "ax1.set_ylabel(\"Residuals\")\n",
    "ax1.set_title(\"Model 3\", fontsize=22)\n",
    "\n",
    "# Model 6\n",
    "sns.residplot(x=model6.fittedvalues, y=model6.resid, lowess=True, line_kws={'color': 'red', 'lw': 2}, ax=ax2, scatter_kws={'color': viridis(2)})\n",
    "ax2.axhline(0, color='black', linestyle='--', linewidth=1)\n",
    "ax2.set_xlabel(\"Fitted Values\")\n",
    "ax2.set_title(\"Model 6\", fontsize=22)\n",
    "\n",
    "plt.tight_layout()\n",
    "plt.show()\n",
    "\n",
    "# Export figure to jpg\n",
    "fig.savefig('figures/residuals_vs_fitted_values.jpg', dpi=300)"
   ]
  },
  {
   "cell_type": "markdown",
   "metadata": {},
   "source": [
    "For both models, the residuals appear scattered randomly around the horizontal line at zero, suggesting that the model fits the data reasonably well in terms of linearity. There is no strong systematic curvature (e.g., U-shape or inverted U-shape) indicating a violation of linearity.\n",
    "\n",
    "There are some points with very high residuals (above 30 or below -30). These might be potential outliers, which could influence the model. It would be worth investigating these points further.\n",
    "\n",
    "The spread of residuals appears fairly consistent across the range of fitted values, suggesting no clear evidence of heteroscedasticity (non-constant variance of errors). However, this should be formally tested using tests like Breusch-Pagan.\n",
    "\n",
    "**The linearity assumption seems reasonably satisfied, as there is no clear pattern or curvature in the residuals. There is a need to investigate points with high residuals to ensure they are not unduly affecting the models.**"
   ]
  },
  {
   "cell_type": "code",
   "execution_count": null,
   "metadata": {},
   "outputs": [],
   "source": [
    "# ========================\n",
    "# === Homoscedasticity ===\n",
    "# ========================\n",
    "# Check residuals vs fitted values and perform Breusch-Pagan test\n",
    "from statsmodels.stats.diagnostic import het_breuschpagan\n",
    "\n",
    "# Model 3\n",
    "bp_test = het_breuschpagan(model3.resid, model3.model.exog)\n",
    "labels = ['Lagrange multiplier statistic', 'p-value']\n",
    "print(dict(zip(labels, bp_test)))\n",
    "\n",
    "# Model 6\n",
    "bp_test = het_breuschpagan(model6.resid, model6.model.exog)\n",
    "labels = ['Lagrange multiplier statistic', 'p-value']\n",
    "print(dict(zip(labels, bp_test)))"
   ]
  },
  {
   "cell_type": "markdown",
   "metadata": {},
   "source": [
    "The Breusch-Pagan test is used to check for heteroscedasticity in a regression model, i.e., whether the variance of the residuals is constant across the range of fitted values (homoscedasticity).\n",
    "\n",
    "Both Lagrange multiplier (LM) p-values and far below the conventional threshold (0.05). This indicates strong evidence to reject the null hypothesis of homoscedasticity, meaning that there is heteroscedasticity in the residuals of both models.\n",
    "\n",
    "These concerns can be mitigated by using heteroscedasticity-robust standard errors to correct the issue without altering the coefficients themselves. I use Heteroscedasticity-Consistent Estimator 3, which uses the squared residuals as weights to adjust the variance-covariance matrix. Additionally, on the contrary of HC0, HC3 inflates the residual-based weights more for observations with high leverage, providing a more reliable correction when influential points exist."
   ]
  },
  {
   "cell_type": "code",
   "execution_count": null,
   "metadata": {},
   "outputs": [],
   "source": [
    "# ==============================\n",
    "# === Normality of residuals ===\n",
    "# ==============================\n",
    "# Check QQ plot and Shapiro-Wilk test\n",
    "from scipy.stats import shapiro, probplot\n",
    "# Create a figure with two subplots\n",
    "fig, (ax1, ax2) = plt.subplots(1, 2, figsize=(16, 6), sharey=True)\n",
    "\n",
    "# Model 3\n",
    "probplot(model3.resid, dist=\"norm\", plot=ax1)\n",
    "ax1.set_title(\"Model 3\", fontsize=22)\n",
    "ax1.get_lines()[0].set_color(viridis(1))\n",
    "\n",
    "# Model 6\n",
    "probplot(model6.resid, dist=\"norm\", plot=ax2)\n",
    "ax2.set_title(\"Model 6\", fontsize=22)\n",
    "ax2.set_ylabel(\"\")\n",
    "ax2.get_lines()[0].set_color(viridis(1))\n",
    "\n",
    "plt.tight_layout()\n",
    "plt.show()\n",
    "\n",
    "# Save figure to jpg\n",
    "fig.savefig('figures/qq_plots.jpg', dpi=300)\n",
    "\n",
    "# Shapiro-Wilk Test for Model 3\n",
    "shapiro_test_m3 = shapiro(model3.resid)\n",
    "print(f\"Shapiro-Wilk Test (Model 3): W={shapiro_test_m3[0]}, p-value={shapiro_test_m3[1]}\")\n",
    "\n",
    "# Shapiro-Wilk Test for Model 6\n",
    "shapiro_test_m6 = shapiro(model6.resid)\n",
    "print(f\"Shapiro-Wilk Test (Model 6): W={shapiro_test_m6[0]}, p-value={shapiro_test_m6[1]}\")"
   ]
  },
  {
   "cell_type": "code",
   "execution_count": null,
   "metadata": {},
   "outputs": [],
   "source": [
    "# =========================\n",
    "# === Multicollinearity ===\n",
    "# =========================\n",
    "# Calculate VIF for each predictor\n",
    "from statsmodels.stats.outliers_influence import variance_inflation_factor\n",
    "\n",
    "# MODEL 3\n",
    "# Get the exogenous variables (X) and their names\n",
    "X = model3.model.exog\n",
    "exog_names = model3.model.exog_names\n",
    "\n",
    "# Variables to exclude\n",
    "exclude_vars = [\"immigrant:mreason[T.N/A]\", \"pow(age_dv, 2)\"]\n",
    "exclude_indices = [exog_names.index(var) for var in exclude_vars if var in exog_names]\n",
    "\n",
    "# Remove the excluded variables from X and exog_names\n",
    "X_filtered = pd.DataFrame(X).drop(columns=exclude_indices).values\n",
    "exog_names_filtered = [name for i, name in enumerate(exog_names) if i not in exclude_indices]\n",
    "\n",
    "# Calculate VIF for the remaining variables\n",
    "vif_data = pd.DataFrame()\n",
    "vif_data[\"Variable\"] = exog_names_filtered\n",
    "vif_data[\"VIF\"] = [variance_inflation_factor(X_filtered, i) for i in range(X_filtered.shape[1])]\n",
    "\n",
    "print(\"Variance Inflation Factor (VIF) - Model 3:\")\n",
    "print(vif_data)\n",
    "\n",
    "# MODEL 6\n",
    "X6 = model6.model.exog\n",
    "exog_names6 = model6.model.exog_names\n",
    "\n",
    "exclude_indices6 = [exog_names6.index(var) for var in exclude_vars if var in exog_names6]\n",
    "\n",
    "X_filtered6 = pd.DataFrame(X6).drop(columns=exclude_indices6).values\n",
    "exog_names_filtered6 = [name for i, name in enumerate(exog_names6) if i not in exclude_indices6]\n",
    "\n",
    "vif_data6 = pd.DataFrame()\n",
    "vif_data6[\"Variable\"] = exog_names_filtered6\n",
    "vif_data6[\"VIF\"] = [variance_inflation_factor(X_filtered6, i) for i in range(X_filtered6.shape[1])]\n",
    "\n",
    "print(\"Variance Inflation Factor (VIF) - Model 6:\")\n",
    "print(vif_data6)\n"
   ]
  },
  {
   "cell_type": "markdown",
   "metadata": {},
   "source": [
    "For both models, both the Q-Q plot and Shapiro-Wilk test indicate that their residuals do not meet the normality assumption. While OLS is robust to some deviations from normality, severe deviations (as seen here) may affect the reliability of your hypothesis tests and confidence intervals.\n",
    "\n",
    "Sometimes however, one can validly get away with non-normal residuals in an OLS context; see for example, Lumley T, Emerson S. (2002)"
   ]
  },
  {
   "cell_type": "code",
   "execution_count": null,
   "metadata": {},
   "outputs": [],
   "source": [
    "# =================================\n",
    "# === Check for leverage points ===\n",
    "# =================================\n",
    "# Calculate Cook's distance\n",
    "#suppress scientific notation\n",
    "import numpy as np\n",
    "np.set_printoptions(suppress=True)\n",
    "\n",
    "# Model 3\n",
    "influence3 = model3.get_influence()\n",
    "\n",
    "# Obtain Cook's distance for each observation\n",
    "cooks = influence3.cooks_distance[0]\n",
    "\n",
    "# Plot Cook's distance\n",
    "plt.figure(figsize = (12, 8))\n",
    "plt.stem(np.arange(len(cooks)), cooks)\n",
    "\n",
    "# Model 6\n",
    "influence6 = model6.get_influence()\n",
    "\n",
    "# Obtain Cook's distance for each observation\n",
    "cooks6 = influence6.cooks_distance[0]\n",
    "\n",
    "# Plot Cook's distance\n",
    "plt.figure(figsize = (12, 8))\n",
    "plt.stem(np.arange(len(cooks6)), cooks6)"
   ]
  },
  {
   "cell_type": "markdown",
   "metadata": {},
   "source": [
    "## V/ Robustness analysis"
   ]
  },
  {
   "cell_type": "markdown",
   "metadata": {},
   "source": [
    "### Robustness to different immigration 'recency' thresholds\n",
    "\n",
    "R has been used (survey package) to create 5 models at different thresholds determining whether an individual migrated 'recently' or not. I visualise the results here."
   ]
  },
  {
   "cell_type": "code",
   "execution_count": null,
   "metadata": {},
   "outputs": [],
   "source": [
    "# Load csv of results\n",
    "years_robustness_df = pd.read_csv('tables/years_robustness_results.csv')"
   ]
  },
  {
   "cell_type": "code",
   "execution_count": null,
   "metadata": {},
   "outputs": [],
   "source": [
    "years_robustness_df.columns"
   ]
  },
  {
   "cell_type": "code",
   "execution_count": null,
   "metadata": {},
   "outputs": [],
   "source": [
    "# Create the plot\n",
    "plt.figure(figsize=(10, 6))\n",
    "\n",
    "# Plot the estimates as points\n",
    "plt.scatter(years_robustness_df['threshold'], years_robustness_df['estimate'], \n",
    "           color=viridis(6), s=50, zorder=2)\n",
    "\n",
    "# Add error bars for confidence intervals without vertical lines\n",
    "plt.errorbar(years_robustness_df['threshold'], years_robustness_df['estimate'],\n",
    "            yerr=[years_robustness_df['estimate'] - years_robustness_df['conf.low'],\n",
    "                  years_robustness_df['conf.high'] - years_robustness_df['estimate']],\n",
    "            fmt='o', color=viridis(6), alpha=0.5, capsize=3)\n",
    "\n",
    "# Add reference line at y=0\n",
    "plt.axhline(y=0, color='red', linestyle='-', linewidth=0.5)\n",
    "\n",
    "# Customize the plot\n",
    "plt.xlabel('Threshold', size = 15)\n",
    "plt.ylabel('Estimate', size = 15)\n",
    "plt.xticks([5, 10, 15, 20, 25], size = 14)  # Set x-axis ticks and labels\n",
    "plt.yticks(size = 14)\n",
    "plt.grid(True, axis='y', alpha=0.3)  # Only horizontal grid\n",
    "\n",
    "# Export figure to jpg\n",
    "plt.savefig('figures/years_robustness.jpg', dpi=300)"
   ]
  }
 ],
 "metadata": {
  "kernelspec": {
   "display_name": ".venv",
   "language": "python",
   "name": "python3"
  },
  "language_info": {
   "codemirror_mode": {
    "name": "ipython",
    "version": 3
   },
   "file_extension": ".py",
   "mimetype": "text/x-python",
   "name": "python",
   "nbconvert_exporter": "python",
   "pygments_lexer": "ipython3",
   "version": "3.11.11"
  }
 },
 "nbformat": 4,
 "nbformat_minor": 2
}
